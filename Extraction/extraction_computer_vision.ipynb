{
 "cells": [
  {
   "cell_type": "markdown",
   "id": "46b07972",
   "metadata": {},
   "source": [
    "\n",
    "# Introduction to AI-Powered Computer Vision for PDF Extraction\n",
    "Modern AI models, especially those trained on vast amounts of data, have the capability to understand and extract information from complex documents, such as PDFs. This ability can revolutionize the accounting domain by automating the extraction of financial data from reports, invoices, and other documentation. The key benefits include:\n",
    "\n",
    "- **Efficiency**: Reduce manual data entry and potential errors.\n",
    "- **Scalability**: Process large volumes of documents in a fraction of the time.\n",
    "- **Flexibility**: Extract data from various document layouts and structures.\n",
    "\n",
    "In this notebook, we'll explore how such models work and how their output can be processed for practical use.\n"
   ]
  },
  {
   "cell_type": "markdown",
   "id": "454b7f38",
   "metadata": {},
   "source": [
    "# Extraction with Document Intelligence Models\n",
    "\n",
    "https://formrecognizer.appliedai.azure.com/studio"
   ]
  },
  {
   "cell_type": "markdown",
   "id": "e50bc368",
   "metadata": {},
   "source": [
    "<!-- Document Intelligence Demo Here -->"
   ]
  },
  {
   "cell_type": "markdown",
   "id": "b5ffcc6f",
   "metadata": {},
   "source": [
    "\n",
    "# Exploring the JSON Output\n",
    "Once a document is processed by the AI model, the extracted information is often represented in a structured format like JSON. Understanding the structure of this JSON output is crucial, as it contains the valuable data we need. Let's dive into its content.\n"
   ]
  },
  {
   "cell_type": "code",
   "execution_count": null,
   "id": "da3e34c8",
   "metadata": {},
   "outputs": [],
   "source": [
    "import json\n",
    "\n",
    "# Load the JSON data from the file\n",
    "with open(\"extract.pdf.json\", \"r\") as file:\n",
    "    data = json.load(file)\n",
    "\n",
    "# Display the keys in the JSON to get an overview of its structure\n",
    "data.keys()"
   ]
  },
  {
   "cell_type": "code",
   "execution_count": null,
   "id": "b0884d23",
   "metadata": {},
   "outputs": [],
   "source": [
    "# Exploring the structure of \"analyzeResult\"\n",
    "analyze_result = data[\"analyzeResult\"]\n",
    "\n",
    "# Displaying the keys within \"analyzeResult\"\n",
    "analyze_result.keys()"
   ]
  },
  {
   "cell_type": "code",
   "execution_count": null,
   "id": "00a2eb75",
   "metadata": {},
   "outputs": [],
   "source": [
    "# Extracting the tables from the \"tables\" key\n",
    "tables = analyze_result[\"tables\"]\n",
    "\n",
    "# Checking the number of tables and displaying the structure of the first table (if available)\n",
    "num_tables = len(tables)\n",
    "first_table = tables[0] if num_tables > 0 else None\n",
    "\n",
    "num_tables, first_table\n"
   ]
  },
  {
   "cell_type": "markdown",
   "id": "167f3cbe",
   "metadata": {},
   "source": [
    "\n",
    "# Extracting Tables from the JSON\n",
    "Extracting tables from the JSON output allows us to access the tabulated data within the document. However, a challenge arises: without context, we might not know the significance or purpose of each table. Let's first extract all the tables and then address this challenge.\n"
   ]
  },
  {
   "cell_type": "code",
   "execution_count": null,
   "id": "f5880a1f",
   "metadata": {},
   "outputs": [],
   "source": [
    "import csv\n",
    "import os\n",
    "\n",
    "# Directory to store the CSV files\n",
    "output_dir = \"tables_csv\"\n",
    "os.makedirs(output_dir, exist_ok=True)\n",
    "\n",
    "csv_files = []\n",
    "\n",
    "for idx, table in enumerate(tables):\n",
    "    # Initialize an empty matrix for the table\n",
    "    matrix = [['' for _ in range(table['columnCount'])] for _ in range(table['rowCount'])]\n",
    "    \n",
    "    # Populate the matrix with cell content\n",
    "    for cell in table['cells']:\n",
    "        matrix[cell['rowIndex']][cell['columnIndex']] = cell['content']\n",
    "    \n",
    "    # Save the matrix to a CSV file\n",
    "    csv_filename = os.path.join(output_dir, f\"table_{idx + 1}.csv\")\n",
    "    with open(csv_filename, 'w', newline='', encoding='utf-8') as csvfile:\n",
    "        writer = csv.writer(csvfile)\n",
    "        writer.writerows(matrix)\n",
    "    \n",
    "    csv_files.append(csv_filename)\n",
    "\n",
    "csv_files[:5]  # Displaying paths to the first 5 CSV files as an example\n"
   ]
  },
  {
   "cell_type": "markdown",
   "id": "75750e6a",
   "metadata": {},
   "source": [
    "<!-- Do it better by getting the closest paragraphs -->"
   ]
  },
  {
   "cell_type": "markdown",
   "id": "4396cf20",
   "metadata": {},
   "source": [
    "\n",
    "# Associating Tables with Context\n",
    "To provide meaningful context to each table, we can associate it with the nearest paragraph or section heading in the document. This approach not only gives us insight into the table's content but also aids in naming the extracted CSV files. Let's see how this can be done.\n"
   ]
  },
  {
   "cell_type": "code",
   "execution_count": null,
   "id": "320e0e4b",
   "metadata": {},
   "outputs": [],
   "source": [
    "import json\n",
    "import os\n",
    "import csv\n",
    "import math\n",
    "\n",
    "def vertical_distance(paragraph_region, table_region):\n",
    "    paragraph_bottom_y = paragraph_region['polygon'][5]\n",
    "    table_top_y = table_region['polygon'][1]\n",
    "    return table_top_y - paragraph_bottom_y\n"
   ]
  },
  {
   "cell_type": "code",
   "execution_count": null,
   "id": "635154f9",
   "metadata": {},
   "outputs": [],
   "source": [
    "def generate_filename(title, idx):\n",
    "    max_length = 50\n",
    "    truncated_title = title[:max_length].rstrip() if title else \"table\"\n",
    "    sanitized_title = ''.join(c if c.isalnum() else \"_\" for c in truncated_title)\n",
    "    filename = f\"{idx}_{sanitized_title}.csv\"\n",
    "    return filename"
   ]
  },
  {
   "cell_type": "code",
   "execution_count": null,
   "id": "c6710bbb",
   "metadata": {},
   "outputs": [],
   "source": [
    "# Load the JSON data\n",
    "json_path = \"extract.pdf.json\"\n",
    "output_dir = \"tables_csv\"\n",
    "with open(json_path, \"r\") as file:\n",
    "    data = json.load(file)"
   ]
  },
  {
   "cell_type": "code",
   "execution_count": null,
   "id": "3356b079",
   "metadata": {},
   "outputs": [],
   "source": [
    "analyze_result = data[\"analyzeResult\"]\n",
    "tables = analyze_result[\"tables\"]\n",
    "paragraphs = analyze_result.get(\"paragraphs\", [])\n",
    "\n",
    "# Create output directory if it doesn't exist\n",
    "os.makedirs(output_dir, exist_ok=True)"
   ]
  },
  {
   "cell_type": "code",
   "execution_count": null,
   "id": "a02a1c7d",
   "metadata": {},
   "outputs": [],
   "source": [
    "csv_files = []\n",
    "for idx, table in enumerate(tables, 1):\n",
    "    # Initialize an empty matrix for the table\n",
    "    matrix = [['' for _ in range(table['columnCount'])] for _ in range(table['rowCount'])]\n",
    "    for cell in table['cells']:\n",
    "        matrix[cell['rowIndex']][cell['columnIndex']] = cell['content']\n",
    "\n",
    "    # Identify closest title using Euclidean distance\n",
    "    closest_paragraph = None\n",
    "    min_distance = float('inf')\n",
    "    for paragraph in paragraphs:\n",
    "        for p_region in paragraph['boundingRegions']:\n",
    "            for t_region in table['boundingRegions']:\n",
    "                distance = vertical_distance(p_region, t_region)\n",
    "                if 0 < distance < min_distance:\n",
    "                    min_distance = distance\n",
    "                    closest_paragraph = paragraph\n",
    "\n",
    "    title = closest_paragraph['content'] if closest_paragraph else None\n",
    "    csv_filename = os.path.join(output_dir, generate_filename(title, idx))\n",
    "    # Save the matrix to a CSV file\n",
    "    with open(csv_filename, 'w', newline='', encoding='utf-8') as csvfile:\n",
    "        writer = csv.writer(csvfile)\n",
    "        writer.writerows(matrix)\n",
    "    csv_files.append(csv_filename)\n"
   ]
  }
 ],
 "metadata": {
  "kernelspec": {
   "display_name": "Python 3 (ipykernel)",
   "language": "python",
   "name": "python3"
  },
  "language_info": {
   "codemirror_mode": {
    "name": "ipython",
    "version": 3
   },
   "file_extension": ".py",
   "mimetype": "text/x-python",
   "name": "python",
   "nbconvert_exporter": "python",
   "pygments_lexer": "ipython3",
   "version": "3.11.4"
  }
 },
 "nbformat": 4,
 "nbformat_minor": 5
}
