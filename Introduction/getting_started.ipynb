{
 "cells": [
  {
   "cell_type": "markdown",
   "id": "7168d551",
   "metadata": {},
   "source": [
    "# GETTING STARTED WITH Python (Jupyter Notebook)"
   ]
  },
  {
   "cell_type": "markdown",
   "id": "06274188",
   "metadata": {},
   "source": [
    "Alexander White"
   ]
  },
  {
   "cell_type": "markdown",
   "id": "ce65176c",
   "metadata": {},
   "source": [
    "## Python (Jupyter Notebook):  HOW TO GET IT AND USE IT"
   ]
  },
  {
   "cell_type": "markdown",
   "id": "338313c4",
   "metadata": {},
   "source": [
    "\n",
    "Here are steps for you to get Python (Jupyter Notebook) installed:\n",
    "- Go to [https://www.anaconda.com/download](https://www.anaconda.com/download)\n",
    "- Run the Anaconda installer and follow the instructions\n",
    "- See documentation at: [Anaconda Navigator](https://docs.anaconda.com/free/navigator/index.html) and [Jupyter documentation](https://jupyter.readthedocs.io/en/latest/) for further help getting Python/Jupyter up and running\n"
   ]
  },
  {
   "cell_type": "markdown",
   "id": "6d13ed19",
   "metadata": {},
   "source": [
    "## Learning objectives"
   ]
  },
  {
   "cell_type": "markdown",
   "id": "e297a82c",
   "metadata": {},
   "source": [
    "\n",
    "- What are Jupyter notebooks, and what is their history?\n",
    "- Learn how to start Jupyter notebook – create a new notebook\n",
    "- Exploring the Jupyter notebook GUI\n",
    "- Understand how to create a data frame using pandas\n",
    "- Understand how to import data using pandas, calculate a new variable in a pandas data frame\n"
   ]
  },
  {
   "cell_type": "markdown",
   "id": "31061626",
   "metadata": {},
   "source": [
    "\n",
    "NOTE: This document assumes that you have already successfully installed Jupyter notebook from the Anaconda distribution. If you have not done this, please follow those steps before proceeding, and if you have questions, seek out the Faculty or TA through email or office hours.\n"
   ]
  },
  {
   "cell_type": "markdown",
   "id": "26389d4a",
   "metadata": {},
   "source": [
    "\n",
    "## What are Jupyter notebooks, and what is their history?\n",
    "Jupyter notebooks provide a place where an analyst/programmer can intermingle code, results from running code chunks (called cells), and text (including mathematical and statistical equations) using a variety of programming languages and a syntax called markdown. Jupyter actually means Julia, Python, and R. \n",
    "\n",
    "We will make use of the jupyter notebook application, a server-client application that allows you to run Python code within your web browser. This will be installed by default with the Anaconda Python distribution. The jupyter notebook has two main components, the dashboard and kernel. The kernel essentially refers to the underlying programming language engine, and we will make use of Python 3.11 in this course. The dashboard refers to the client side web page and interface, including the management of previously created notebooks, and turning on and off kernels that you would like to use. You may have multiple kernels active at any given time. \n",
    "\n",
    "Python has its beginning in the early 1980s, but notebooks for Python didn’t start being developed until the early 2000s, when IPython was created. Jupyter actually spun out of a project called Project Jupyter, and IPython is the backend used by Jupyter notebook today when using a Python kernel. Notebooks for some languages have existed since the 1980s, but Jupyter notebook is a more recent phenomenon dating from around 2014.\n"
   ]
  },
  {
   "cell_type": "markdown",
   "id": "3d3e65bc",
   "metadata": {},
   "source": [
    "\n",
    "## Exploring the Jupyter notebook GUI – Keyboard shortcuts\n",
    "Details about the Jupyter notebook GUI and keyboard shortcuts are provided here.\n",
    "\n",
    "* Command Mode (escape)\n",
    "    + Insert cell above (a)\n",
    "    + Insert cell below (b)\n",
    "    + Change cell to markdown (m)\n",
    "    + Change cell to code (y)\n",
    "    + Change cell to raw (r)\n",
    "* Edit Mode (enter)\n",
    "    + Execute a cell (ctrl + enter)\n",
    "\n",
    "\n",
    "For more information regarding keyboard shortcuts within Jupyter notebook, please see the following link: [Jupyter Notebook Cheat Sheet](https://images.datacamp.com/image/upload/v1676302533/Marketing/Blog/Jupyterlab_Cheat_Sheet.pdf)\n"
   ]
  },
  {
   "cell_type": "markdown",
   "id": "14ea5b4d",
   "metadata": {},
   "source": [
    "\n",
    "## Understand how to create a data frame using pandas\n",
    "Details about creating data frames using pandas are provided here, including importing the necessary libraries and creating data frames from scratch.\n"
   ]
  },
  {
   "cell_type": "code",
   "execution_count": null,
   "id": "4af56faf",
   "metadata": {},
   "outputs": [],
   "source": [
    "import pandas as pd\n",
    "\n",
    "myDF = pd.DataFrame({'name': ['Barry', 'Megan', 'Alec', 'Tim', 'Harriet', 'Lindsay'], \n",
    "                     'age': [12, 13, 15, 17, 19, 11]})\n",
    "myDF"
   ]
  },
  {
   "cell_type": "markdown",
   "id": "bc622516",
   "metadata": {},
   "source": [
    "Select a column"
   ]
  },
  {
   "cell_type": "code",
   "execution_count": null,
   "id": "c9c342c0",
   "metadata": {},
   "outputs": [],
   "source": [
    "myDF['age']"
   ]
  },
  {
   "cell_type": "markdown",
   "id": "867ecfb3",
   "metadata": {},
   "source": [
    "To select a specific value, just use another [] (remember that indices start at 0 in Python):"
   ]
  },
  {
   "cell_type": "code",
   "execution_count": null,
   "id": "4ed4c990",
   "metadata": {},
   "outputs": [],
   "source": [
    "myDF['age'][0] ## first element"
   ]
  },
  {
   "cell_type": "code",
   "execution_count": null,
   "id": "3cf941bc",
   "metadata": {},
   "outputs": [],
   "source": [
    "myDF['age'][:-1] ## all but last element"
   ]
  },
  {
   "cell_type": "markdown",
   "id": "18fa314b",
   "metadata": {},
   "source": [
    "Add a new row (observation) to a pandas data frame"
   ]
  },
  {
   "cell_type": "code",
   "execution_count": null,
   "id": "81f8e6d1",
   "metadata": {},
   "outputs": [],
   "source": [
    "myDF2 = pd.DataFrame({'name': [\"New\", \"People\"], 'age': [13, 17]})\n",
    "pd.concat([myDF, myDF2], ignore_index=True)"
   ]
  },
  {
   "cell_type": "markdown",
   "id": "56b13e08",
   "metadata": {},
   "source": [
    "Notice that if ignore_index were not set to True, the indices would start back over at 0 where myDF2 is appended to myDF. You might try this in your own session to confirm that it is true."
   ]
  },
  {
   "cell_type": "code",
   "execution_count": null,
   "id": "51f9776f",
   "metadata": {},
   "outputs": [],
   "source": [
    "myDF ## notice that myDF was not modified"
   ]
  },
  {
   "cell_type": "markdown",
   "id": "b2dc7df3",
   "metadata": {},
   "source": [
    "\n",
    "## Understand how to import data using pandas, calculate a new variable in a pandas data frame\n",
    "Details about importing data using pandas and calculating new variables in pandas data frames are provided here.\n"
   ]
  },
  {
   "cell_type": "code",
   "execution_count": null,
   "id": "f9cd9dca",
   "metadata": {},
   "outputs": [],
   "source": [
    "myDF['newID'] = [x for x in range(6)]\n",
    "myDF['gender'] = ['Male', 'Female', \"Male\", 'Male',\n",
    "                 \"Female\", \"Female\"] ## notice two lines, and \" vs '\n",
    "myDF"
   ]
  },
  {
   "cell_type": "markdown",
   "id": "e3e3beb1",
   "metadata": {},
   "source": [
    "## Wait.... I don't want to manually input my data here"
   ]
  },
  {
   "cell_type": "code",
   "execution_count": null,
   "id": "4757b581",
   "metadata": {},
   "outputs": [],
   "source": [
    "income_statement = pd.read_csv(\"income_statement.csv\")"
   ]
  },
  {
   "cell_type": "code",
   "execution_count": null,
   "id": "75c27778",
   "metadata": {},
   "outputs": [],
   "source": [
    "income_statement"
   ]
  },
  {
   "cell_type": "code",
   "execution_count": null,
   "id": "4ddf5225",
   "metadata": {},
   "outputs": [],
   "source": [
    "pd.read_csv?"
   ]
  },
  {
   "cell_type": "markdown",
   "id": "906e5fdb",
   "metadata": {},
   "source": [
    "## Descriptive\n",
    "\n",
    "Let's \"wrangle\" the data a bit"
   ]
  },
  {
   "cell_type": "code",
   "execution_count": null,
   "id": "a92f397f",
   "metadata": {},
   "outputs": [],
   "source": [
    "basic_info = income_statement[['Revenues', 'Total Expenses', 'Net Profit']].agg(['min', 'max', 'mean'])\n",
    "basic_info"
   ]
  },
  {
   "cell_type": "code",
   "execution_count": null,
   "id": "4c1f3ee7",
   "metadata": {},
   "outputs": [],
   "source": [
    "income_statement_by_year = income_statement.groupby('Year')[['Revenues', 'Total Expenses', 'Net Profit']].sum()\n",
    "by_year = income_statement_by_year.applymap(lambda x: \"${:,.2f}\".format(x))\n",
    "by_year"
   ]
  },
  {
   "cell_type": "markdown",
   "id": "bc136a42",
   "metadata": {},
   "source": [
    "Here's what's happening:\n",
    "\n",
    "\\\\${:,.2f} is a string formatting pattern:\n",
    "\n",
    "\\\\$ adds the dollar sign.\n",
    "\n",
    ":, adds comma as a thousand separator.\n",
    "\n",
    ".2f ensures there are exactly two decimal places.\n",
    "\n",
    "applymap() applies the given function (which utilizes the string format) to each cell of the DataFrame."
   ]
  },
  {
   "cell_type": "markdown",
   "id": "588c015e",
   "metadata": {},
   "source": [
    "## Export\n",
    "We want to send these to our client, let's export them."
   ]
  },
  {
   "cell_type": "code",
   "execution_count": null,
   "id": "7f1d5dd7",
   "metadata": {},
   "outputs": [],
   "source": [
    "by_year.to_csv('income_by_year.csv', index = False) # `index=False` ensures that row indices are not written to the CSV"
   ]
  },
  {
   "cell_type": "markdown",
   "id": "fb6a519f",
   "metadata": {},
   "source": [
    "## Visualizations"
   ]
  },
  {
   "cell_type": "code",
   "execution_count": null,
   "id": "6b0e4897",
   "metadata": {},
   "outputs": [],
   "source": [
    "import matplotlib.pyplot as plt\n",
    "plt.plot(income_statement['Month'], income_statement['Revenues'], label='Revenues', color='blue')\n",
    "plt.legend()  # This will show the 'Revenues' label on the plot.\n",
    "plt.show()    #"
   ]
  },
  {
   "cell_type": "markdown",
   "id": "22bccfa2",
   "metadata": {},
   "source": [
    "What's happening here? Oh, it's stacking my years together... OK, let's create a Date variable instead."
   ]
  },
  {
   "cell_type": "code",
   "execution_count": null,
   "id": "18326e91",
   "metadata": {},
   "outputs": [],
   "source": [
    "income_statement['Date'] = pd.to_datetime(income_statement['Year'].astype(str) + '-' + income_statement['Month'].astype(str) + '-01')\n",
    "\n",
    "# Sort by this new 'Date' column\n",
    "income_statement = income_statement.sort_values(by='Date')"
   ]
  },
  {
   "cell_type": "code",
   "execution_count": null,
   "id": "f3a1adbf",
   "metadata": {},
   "outputs": [],
   "source": [
    "income_statement"
   ]
  },
  {
   "cell_type": "code",
   "execution_count": null,
   "id": "80c67abc",
   "metadata": {},
   "outputs": [],
   "source": [
    "plt.plot(income_statement['Date'], income_statement['Revenues'], label='Revenues', color='blue')\n",
    "plt.legend()  # This will show the 'Revenues' label on the plot.\n",
    "plt.show()    #"
   ]
  },
  {
   "cell_type": "code",
   "execution_count": null,
   "id": "5e15725e",
   "metadata": {},
   "outputs": [],
   "source": [
    "avg_expenses = income_statement[['COGS', 'Salaries and Wages', 'Rent', 'Marketing and Advertising', 'Utilities', 'Depreciation', 'Other Expenses']].mean()\n",
    "avg_expenses.plot(kind='bar', color='skyblue')"
   ]
  },
  {
   "cell_type": "markdown",
   "id": "3c5677dc",
   "metadata": {},
   "source": [
    "Plot Revenues, Total Expenses, and Net Profit over time as line graphs"
   ]
  },
  {
   "cell_type": "code",
   "execution_count": null,
   "id": "7331b82d",
   "metadata": {},
   "outputs": [],
   "source": [
    "# Revenues\n",
    "plt.plot(income_statement['Date'], income_statement['Revenues'], label='Revenues', color='blue')\n",
    "\n",
    "# Total Expenses\n",
    "plt.plot(income_statement['Date'], income_statement['Total Expenses'], label='Total Expenses', color='red')\n",
    "\n",
    "# Net Profit\n",
    "plt.plot(income_statement['Date'], income_statement['Net Profit'], label='Net Profit', color='green')\n",
    "\n",
    "plt.title('Income Statement Overview')\n",
    "plt.xlabel('Date')\n",
    "plt.ylabel('Amount')\n",
    "\n",
    "# Add a legend to show labels\n",
    "plt.legend()\n",
    "\n",
    "# Display the plot\n",
    "plt.show()"
   ]
  },
  {
   "cell_type": "code",
   "execution_count": null,
   "id": "41dcdab5",
   "metadata": {},
   "outputs": [],
   "source": [
    "total_expenses = income_statement[['COGS', 'Salaries and Wages', 'Rent', 'Marketing and Advertising', 'Utilities', 'Depreciation', 'Other Expenses']].sum()\n",
    "total_expenses.plot(kind='bar', color='lightcoral')\n"
   ]
  },
  {
   "cell_type": "markdown",
   "id": "12f05715",
   "metadata": {},
   "source": [
    "\n",
    "## Additional Resources\n",
    "For more review and experience, I suggest the following tutorials:\n",
    "\n",
    "- [Python tuple tutorial](https://www.datacamp.com/community/tutorials/python-tuples-tutorial)\n",
    "- [Python list tutorial](https://www.datacamp.com/community/tutorials/18-most-common-python-list-questions-learn-python)\n",
    "- [Python numpy tutorial](https://www.datacamp.com/community/tutorials/python-numpy-tutorial)\n",
    "- [Python pandas tutorial](https://www.datacamp.com/community/tutorials/pandas-tutorial-dataframe-python)\n"
   ]
  }
 ],
 "metadata": {
  "kernelspec": {
   "display_name": "Python 3 (ipykernel)",
   "language": "python",
   "name": "python3"
  },
  "language_info": {
   "codemirror_mode": {
    "name": "ipython",
    "version": 3
   },
   "file_extension": ".py",
   "mimetype": "text/x-python",
   "name": "python",
   "nbconvert_exporter": "python",
   "pygments_lexer": "ipython3",
   "version": "3.11.4"
  }
 },
 "nbformat": 4,
 "nbformat_minor": 5
}
